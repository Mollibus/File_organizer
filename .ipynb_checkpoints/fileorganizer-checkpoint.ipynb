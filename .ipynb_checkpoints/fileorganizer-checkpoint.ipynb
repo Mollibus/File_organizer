{
 "cells": [
  {
   "cell_type": "code",
   "execution_count": 1,
   "id": "ca214e66",
   "metadata": {},
   "outputs": [],
   "source": [
    "import os\n",
    "import shutil\n",
    "import csv\n",
    "\n",
    "directory = os.path.join(os.getcwd(),\"files\")\n",
    "filenames = os.listdir(directory)\n",
    "\n",
    "dic = {} #creo un dizionario per associare l'estensione alla destinazione\n",
    "dic[\".mp3\"] = \"audio\"\n",
    "dic[\".odt\"] = \"docs\"\n",
    "dic[\".txt\"] = \"docs\"\n",
    "dic[\".jpg\"] = \"images\"\n",
    "dic[\".jpeg\"]= \"images\"\n",
    "dic[\".png\"] = \"images\"\n",
    "\n",
    " #creo un loop che iteri sui file in directory creando le cartelle e spostando i file nelle rispettive cartelle\n",
    "for files in filenames:\n",
    "    ext = os.path.splitext(files)[1]\n",
    "    if ext in dic:#creo una condizione per evitare errori dovuti a file con formato non registrato nel programma \n",
    "        if not os.path.isdir(os.path.join(directory,dic[ext])):\n",
    "            os.makedirs(os.path.join(directory, dic[ext]))  #creo le nuove cartelle usando makedirs     \n",
    "        print(\"{} type:{} size:{}B\".format((os.path.basename(os.path.join(directory, files)).split(\".\")[0]),dic[ext], #ad ogni iter printa le info del file \n",
    "                os.path.getsize(os.path.join(directory,files))))     \n",
    "        with open((os.path.join(directory,\"recap.csv\")),\"a\") as recap:  #per ogni file scrive un recap\n",
    "            writer = csv.writer(recap)  #creo un file di recap\n",
    "            writer.writerow([(os.path.basename(os.path.join(directory, files)).split(\".\")[0]), dic[ext], os.path.getsize(os.path.join(directory,files))])\n",
    "        shutil.move(os.path.join(directory,files),os.path.join(directory,dic[ext]))  #sposta i file nella destinazione\n"
   ]
  },
  {
   "cell_type": "code",
   "execution_count": 6,
   "id": "1ad2dd5f",
   "metadata": {},
   "outputs": [
    {
     "name": "stdout",
     "output_type": "stream",
     "text": [
      "╒════════════╤══════════╤═════════╤═════════════╤════════╤════════╤════════╤═════════╕\n",
      "│ Name       │   Height │   Width │   Grayscale │      R │      G │      B │   alpha │\n",
      "╞════════════╪══════════╪═════════╪═════════════╪════════╪════════╪════════╪═════════╡\n",
      "│ bw         │      512 │     512 │       21.48 │   0    │   0    │   0    │    0    │\n",
      "├────────────┼──────────┼─────────┼─────────────┼────────┼────────┼────────┼─────────┤\n",
      "│ daffodil   │      500 │     335 │        0    │ 109.25 │  85.56 │   4.97 │    0    │\n",
      "├────────────┼──────────┼─────────┼─────────────┼────────┼────────┼────────┼─────────┤\n",
      "│ eclipse    │      256 │     256 │        0    │ 109.05 │ 109.52 │  39.85 │  133.59 │\n",
      "├────────────┼──────────┼─────────┼─────────────┼────────┼────────┼────────┼─────────┤\n",
      "│ photo      │      400 │     800 │        0    │ 117.55 │ 130.53 │ 149.94 │    0    │\n",
      "├────────────┼──────────┼─────────┼─────────────┼────────┼────────┼────────┼─────────┤\n",
      "│ ProvaLinfa │      720 │    1280 │        0    │ 132    │ 133.97 │ 135.38 │    0    │\n",
      "├────────────┼──────────┼─────────┼─────────────┼────────┼────────┼────────┼─────────┤\n",
      "│ trump      │      183 │     275 │        0    │  97.01 │  98.99 │  90.92 │    0    │\n",
      "╘════════════╧══════════╧═════════╧═════════════╧════════╧════════╧════════╧═════════╛\n"
     ]
    }
   ],
   "source": [
    "from PIL import Image\n",
    "import numpy as np\n",
    "import os\n",
    "from tabulate import tabulate\n",
    "\n",
    "table = [] #creo una lista vuota a cui appendere i dati da tabulare\n",
    "directory = os.path.join(os.getcwd(),\"files\")\n",
    "directory_images = os.path.join(directory,\"images\") #indico la directory su cui lavorare\n",
    "\n",
    "if os.path.isdir(directory_images):\n",
    "    list_pic = os.listdir(directory_images) #lista di file all'interno della directory\n",
    "    for pic in list_pic: #itero i file all'interno della directory\n",
    "        img = Image.open(os.path.join(directory_images,pic)) #apro il file con PIL.Image\n",
    "        np_img = np.array(img) #converto il file immagine in un array numy\n",
    "        if np_img.ndim == 2: #creo una condizione per cui se è il file è in scala di grigio solo il primo elemento della lista è diverso da zero\n",
    "            mean_value = np.zeros(5)\n",
    "            mean_value[0]= np.around(np.mean(np_img,axis=(0,1)),2)\n",
    "        else: #se l'immagine non è in scala di grigio raccolgo i valori medi di ogni colore e di alpha in tutti i pixel \n",
    "            mean_value = np.pad(np.around(np.mean(np_img,axis=(0,1)),2),(1,1))#aggiungo uno zero all'inizio alla fine per grayscale e alpha, quest'ultimo sarà sostituito dal valore se presente\n",
    "        #appendo a table tutte le info e i valori medi\n",
    "        table.append([(os.path.basename(os.path.join(directory_images, pic)).split(\".\")[0]),\n",
    "                img.size[1],img.size[0],mean_value[0],mean_value[1],mean_value[2],mean_value[3],mean_value[4]]) \n",
    "else:\n",
    "    print(\"images folder doesn't exist, try to run the script above\")\n",
    "#printo la tabella in fancy_grid            \n",
    "print(tabulate(table, headers=[\"Name\",\"Height\",\"Width\",\"Grayscale\",\"R\",\"G\",\"B\",\"alpha\"],tablefmt=\"fancy_grid\"))\n",
    "\n"
   ]
  },
  {
   "cell_type": "code",
   "execution_count": null,
   "id": "847d050e",
   "metadata": {},
   "outputs": [],
   "source": []
  }
 ],
 "metadata": {
  "kernelspec": {
   "display_name": "Python 3 (ipykernel)",
   "language": "python",
   "name": "python3"
  },
  "language_info": {
   "codemirror_mode": {
    "name": "ipython",
    "version": 3
   },
   "file_extension": ".py",
   "mimetype": "text/x-python",
   "name": "python",
   "nbconvert_exporter": "python",
   "pygments_lexer": "ipython3",
   "version": "3.9.7"
  }
 },
 "nbformat": 4,
 "nbformat_minor": 5
}
